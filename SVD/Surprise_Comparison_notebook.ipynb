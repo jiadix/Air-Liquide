{
 "cells": [
  {
   "cell_type": "code",
   "execution_count": 1,
   "metadata": {},
   "outputs": [],
   "source": [
    "from surprise import SVD\n",
    "from surprise import Dataset\n",
    "from surprise import accuracy\n",
    "from surprise.model_selection import train_test_split\n",
    "\n",
    "from SVD import SVD_SGD\n",
    "import pandas as pd\n",
    "from sklearn import model_selection\n",
    "\n",
    "import time"
   ]
  },
  {
   "cell_type": "code",
   "execution_count": 6,
   "metadata": {},
   "outputs": [
    {
     "name": "stdout",
     "output_type": "stream",
     "text": [
      "This function took 8.138247 seconds\n",
      "This function took 1.371209 seconds\n",
      "Our code is 5.935088 faster than Surprise!\n"
     ]
    }
   ],
   "source": [
    "# Training Surprise on 80% of the 100k data set\n",
    "start = time.time()\n",
    "data = Dataset.load_builtin('ml-100k')\n",
    "algo = SVD(n_factors=3, n_epochs=100)\n",
    "trainset, testset = train_test_split(data, test_size=0.2)\n",
    "algo.fit(trainset)\n",
    "end = time.time()\n",
    "dt_surprise = end-start\n",
    "print 'This function took %f seconds' % dt_surprise\n",
    "\n",
    "# Training our own code on 80% of the 100k data set\n",
    "start = time.time()\n",
    "df = pd.read_csv('../Data/ml-latest-small/ratings.csv')\n",
    "p_test = 0.2\n",
    "df_train, df_test = model_selection.train_test_split(df, test_size=p_test)\n",
    "e_arr, mu, bu, bi, p, t = SVD_SGD(df_train, n_factors=3, n_epochs=100)\n",
    "end = time.time()\n",
    "dt_ourSGD = end-start\n",
    "print 'This function took %f seconds' % dt_ourSGD\n",
    "\n",
    "print 'Our code is %f faster than Surprise!' % (dt_surprise/dt_ourSGD)\n",
    "\n",
    "\n"
   ]
  },
  {
   "cell_type": "code",
   "execution_count": null,
   "metadata": {},
   "outputs": [],
   "source": []
  },
  {
   "cell_type": "code",
   "execution_count": null,
   "metadata": {
    "collapsed": true
   },
   "outputs": [],
   "source": []
  }
 ],
 "metadata": {
  "kernelspec": {
   "display_name": "Python 2",
   "language": "python",
   "name": "python2"
  },
  "language_info": {
   "codemirror_mode": {
    "name": "ipython",
    "version": 2
   },
   "file_extension": ".py",
   "mimetype": "text/x-python",
   "name": "python",
   "nbconvert_exporter": "python",
   "pygments_lexer": "ipython2",
   "version": "2.7.14"
  }
 },
 "nbformat": 4,
 "nbformat_minor": 2
}
