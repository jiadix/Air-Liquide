{
 "cells": [
  {
   "cell_type": "code",
   "execution_count": 1,
   "metadata": {
    "collapsed": true
   },
   "outputs": [],
   "source": [
    "import numpy as np\n",
    "import pandas as pd\n",
    "import matplotlib.pyplot as plt\n",
    "import time\n",
    "from SVD import SVD_SGD\n",
    "from SVD import SVD_ALS\n",
    "from SVD import SVD_SGD_python\n",
    "from sklearn.model_selection import train_test_split"
   ]
  },
  {
   "cell_type": "code",
   "execution_count": 2,
   "metadata": {
    "collapsed": true
   },
   "outputs": [],
   "source": [
    "# Loads movie data\n",
    "df = pd.read_csv('../Data/ml-latest-small/ratings.csv')\n",
    "max_U = np.max(df['userId'])\n",
    "max_I = np.max(df['movieId'])"
   ]
  },
  {
   "cell_type": "code",
   "execution_count": null,
   "metadata": {
    "collapsed": true
   },
   "outputs": [],
   "source": []
  },
  {
   "cell_type": "code",
   "execution_count": 3,
   "metadata": {
    "collapsed": true
   },
   "outputs": [],
   "source": [
    "# Separates into training, cross-validation and testing sets\n",
    "p_test = 0.2\n",
    "p_xvalid = 0.2\n",
    "df_train, df_test = train_test_split(df, test_size=p_test)\n",
    "df_train, df_xvalid = train_test_split(df_train,test_size=p_xvalid/(1-p_test))"
   ]
  },
  {
   "cell_type": "code",
   "execution_count": 4,
   "metadata": {},
   "outputs": [
    {
     "name": "stdout",
     "output_type": "stream",
     "text": [
      "This function took 14.995691 seconds\n"
     ]
    }
   ],
   "source": [
    "start = time.time()\n",
    "e_arr, mu, bu, bi, p, t = SVD_ALS(df_train, n_factors=3, n_epochs=6);\n",
    "end = time.time()\n",
    "dt_als = end-start\n",
    "print 'This function took %f seconds' % dt_als"
   ]
  },
  {
   "cell_type": "code",
   "execution_count": 7,
   "metadata": {},
   "outputs": [
    {
     "name": "stdout",
     "output_type": "stream",
     "text": [
      "[ 0.49983682  0.48832385  0.48172155  0.4772566   0.47400444  0.47160115]\n"
     ]
    }
   ],
   "source": [
    "print e_arr"
   ]
  },
  {
   "cell_type": "code",
   "execution_count": null,
   "metadata": {},
   "outputs": [],
   "source": []
  },
  {
   "cell_type": "code",
   "execution_count": 5,
   "metadata": {
    "collapsed": true
   },
   "outputs": [],
   "source": [
    "# users Id, movie Id, and rating cross-validation\n",
    "users_xvalid = df_xvalid['userId']\n",
    "movies_xvalid = df_xvalid['movieId']\n",
    "r_xvalid = df_xvalid['rating']\n",
    "\n",
    "# users Id, movie Id, and rating test set\n",
    "users_test = df_test['userId']\n",
    "movies_test = df_test['movieId']\n",
    "r_test = df_test['rating']"
   ]
  },
  {
   "cell_type": "code",
   "execution_count": null,
   "metadata": {},
   "outputs": [],
   "source": []
  },
  {
   "cell_type": "code",
   "execution_count": 10,
   "metadata": {
    "collapsed": true
   },
   "outputs": [],
   "source": [
    "# Creates function to help with cross validation \n",
    "# Ouputs mean absolute error and model parameters\n",
    "def SVDcv(lambda_p, lambda_t, n_fact, p_cv=None, t_cv=None):\n",
    "    \n",
    "    e_arr, mu, bu, bi, p, t = SVD_ALS(\n",
    "        df_train,\n",
    "        n_factors=n_fact, maxUserId=max_U, maxItemId=max_I,\n",
    "        n_epochs=15, epsilon=1.0, e_tol=0.005,\n",
    "        lam_p=lambda_p, lam_t=lambda_t,\n",
    "        p_init=p_cv, t_init=t_cv)\n",
    "    \n",
    "    r_preds = mu + bu[users_xvalid] + bi[movies_xvalid]\n",
    "    r_preds += np.sum(p[users_xvalid]*t[movies_xvalid],axis=1)\n",
    "    MAE = np.mean(np.abs(r_xvalid-r_preds))\n",
    "\n",
    "    return (MAE, mu, bu, bi, p, t)"
   ]
  },
  {
   "cell_type": "code",
   "execution_count": 11,
   "metadata": {
    "collapsed": true
   },
   "outputs": [],
   "source": [
    "# Random variable sweep\n",
    "from random import randint\n",
    "from random import uniform\n",
    "\n",
    "param_arr = [\n",
    "    [10.0**uniform(-1,2), 10.0**uniform(-1,2), randint(1,20)]\n",
    "    for ii in range(50)]\n",
    "df_params = pd.DataFrame(data=param_arr, \n",
    "             columns=['lambda_p', 'lambda_t', 'n_factors']);"
   ]
  },
  {
   "cell_type": "code",
   "execution_count": null,
   "metadata": {},
   "outputs": [],
   "source": []
  },
  {
   "cell_type": "code",
   "execution_count": 12,
   "metadata": {},
   "outputs": [
    {
     "name": "stdout",
     "output_type": "stream",
     "text": [
      "0.758585702905\n",
      "0.857613228338\n",
      "0.710849768854\n",
      "0.829695949342\n",
      "0.818296037796\n",
      "0.732908630301\n",
      "0.774835258915\n",
      "0.706708566791\n",
      "0.744795060363\n",
      "0.722749695348\n",
      "0.878848055636\n",
      "0.875239223453\n",
      "0.711589567671\n",
      "0.791079074863\n",
      "0.711027526703\n",
      "0.762126468934\n",
      "0.831625275253\n",
      "0.8136855318\n",
      "0.870742688767\n",
      "0.875539901831\n",
      "0.711589550224\n",
      "0.852548432088\n",
      "0.725616351943\n",
      "0.703466693464\n",
      "0.712049552431\n",
      "0.711579900848\n",
      "0.849791066197\n",
      "0.709859131222\n",
      "0.771855844355\n",
      "0.806812253335\n",
      "0.711407899857\n",
      "0.713657806522\n",
      "0.711570020679\n",
      "0.833028890209\n",
      "0.921272516863\n",
      "0.793187717755\n",
      "0.700420381792\n",
      "0.707032372567\n",
      "0.711589528109\n",
      "0.750916588555\n",
      "0.855170975184\n",
      "0.840512048227\n",
      "0.711589557014\n",
      "0.699796709758\n",
      "0.715672603734\n",
      "0.859218330149\n",
      "0.877206812729\n",
      "0.755813764881\n",
      "0.711589563394\n",
      "0.701517238048\n"
     ]
    }
   ],
   "source": [
    "MAE_arr = []\n",
    "n_fact_prev = 0\n",
    "for idx, params in enumerate(param_arr):\n",
    "    lam_p, lam_t, n_fact = params\n",
    "    MAE, mu, bu, bi, p, t = SVDcv(lam_p, lam_t, n_fact)\n",
    "    print MAE\n",
    "    MAE_arr.append(MAE)\n",
    "MAE_arr = np.array(MAE_arr)\n",
    "df_params.loc[:,'MAE'] = pd.Series(MAE_arr)\n",
    "df_params.to_csv('MAE_param_sweep_ALS.csv')"
   ]
  },
  {
   "cell_type": "code",
   "execution_count": 21,
   "metadata": {},
   "outputs": [
    {
     "data": {
      "text/plain": [
       "lambda_p      4.291426\n",
       "lambda_t     25.745868\n",
       "n_factors    17.000000\n",
       "MAE           0.699797\n",
       "Name: 43, dtype: float64"
      ]
     },
     "execution_count": 21,
     "metadata": {},
     "output_type": "execute_result"
    }
   ],
   "source": [
    "df_params.iloc[df_params['MAE'].argmin()]"
   ]
  },
  {
   "cell_type": "code",
   "execution_count": null,
   "metadata": {},
   "outputs": [],
   "source": []
  },
  {
   "cell_type": "code",
   "execution_count": 23,
   "metadata": {},
   "outputs": [
    {
     "name": "stdout",
     "output_type": "stream",
     "text": [
      "0.706698448699\n"
     ]
    }
   ],
   "source": [
    "# Finds mean absolute error of test set at best parameters\n",
    "e_arr, mu, bu, bi, p, t = SVD_ALS(\n",
    "    df_train,\n",
    "    n_factors=17, maxUserId=max_U, maxItemId=max_I,\n",
    "     n_epochs=30, epsilon=1.0, e_tol=0.0025,\n",
    "    lam_p=4.291426, lam_t=25.745868)\n",
    "    \n",
    "r_preds = mu+bu[users_test]+bi[movies_test]\n",
    "r_preds += np.sum(p[users_test]*t[movies_test],axis=1)\n",
    "MAE = np.mean(np.abs(r_test-r_preds))\n",
    "\n",
    "print MAE"
   ]
  },
  {
   "cell_type": "code",
   "execution_count": null,
   "metadata": {},
   "outputs": [],
   "source": []
  },
  {
   "cell_type": "code",
   "execution_count": null,
   "metadata": {},
   "outputs": [],
   "source": []
  },
  {
   "cell_type": "code",
   "execution_count": null,
   "metadata": {
    "collapsed": true
   },
   "outputs": [],
   "source": []
  },
  {
   "cell_type": "code",
   "execution_count": null,
   "metadata": {
    "collapsed": true
   },
   "outputs": [],
   "source": []
  },
  {
   "cell_type": "code",
   "execution_count": null,
   "metadata": {
    "collapsed": true
   },
   "outputs": [],
   "source": []
  },
  {
   "cell_type": "code",
   "execution_count": null,
   "metadata": {
    "collapsed": true
   },
   "outputs": [],
   "source": []
  },
  {
   "cell_type": "code",
   "execution_count": null,
   "metadata": {
    "collapsed": true
   },
   "outputs": [],
   "source": []
  },
  {
   "cell_type": "code",
   "execution_count": null,
   "metadata": {
    "collapsed": true
   },
   "outputs": [],
   "source": []
  },
  {
   "cell_type": "code",
   "execution_count": null,
   "metadata": {
    "collapsed": true
   },
   "outputs": [],
   "source": []
  },
  {
   "cell_type": "code",
   "execution_count": null,
   "metadata": {
    "collapsed": true
   },
   "outputs": [],
   "source": []
  },
  {
   "cell_type": "code",
   "execution_count": null,
   "metadata": {
    "collapsed": true
   },
   "outputs": [],
   "source": []
  },
  {
   "cell_type": "code",
   "execution_count": null,
   "metadata": {
    "collapsed": true
   },
   "outputs": [],
   "source": []
  },
  {
   "cell_type": "code",
   "execution_count": null,
   "metadata": {
    "collapsed": true
   },
   "outputs": [],
   "source": []
  },
  {
   "cell_type": "code",
   "execution_count": null,
   "metadata": {
    "collapsed": true
   },
   "outputs": [],
   "source": []
  },
  {
   "cell_type": "code",
   "execution_count": null,
   "metadata": {
    "collapsed": true
   },
   "outputs": [],
   "source": []
  },
  {
   "cell_type": "code",
   "execution_count": null,
   "metadata": {
    "collapsed": true
   },
   "outputs": [],
   "source": []
  },
  {
   "cell_type": "code",
   "execution_count": null,
   "metadata": {
    "collapsed": true
   },
   "outputs": [],
   "source": []
  },
  {
   "cell_type": "code",
   "execution_count": null,
   "metadata": {
    "collapsed": true
   },
   "outputs": [],
   "source": []
  },
  {
   "cell_type": "code",
   "execution_count": null,
   "metadata": {
    "collapsed": true
   },
   "outputs": [],
   "source": []
  },
  {
   "cell_type": "code",
   "execution_count": null,
   "metadata": {
    "collapsed": true
   },
   "outputs": [],
   "source": []
  },
  {
   "cell_type": "code",
   "execution_count": null,
   "metadata": {
    "collapsed": true
   },
   "outputs": [],
   "source": []
  },
  {
   "cell_type": "code",
   "execution_count": null,
   "metadata": {
    "collapsed": true
   },
   "outputs": [],
   "source": []
  }
 ],
 "metadata": {
  "kernelspec": {
   "display_name": "Python 2",
   "language": "python",
   "name": "python2"
  },
  "language_info": {
   "codemirror_mode": {
    "name": "ipython",
    "version": 2
   },
   "file_extension": ".py",
   "mimetype": "text/x-python",
   "name": "python",
   "nbconvert_exporter": "python",
   "pygments_lexer": "ipython2",
   "version": "2.7.14"
  }
 },
 "nbformat": 4,
 "nbformat_minor": 2
}
